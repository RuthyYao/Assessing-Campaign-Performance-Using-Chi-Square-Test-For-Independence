{
 "cells": [
  {
   "cell_type": "markdown",
   "id": "c40693bc-b5db-48dc-8593-dd4337520683",
   "metadata": {},
   "source": [
    "# Using A/B Test to Determine the Best Mailer"
   ]
  },
  {
   "cell_type": "markdown",
   "id": "852a27c0-98af-46e1-8164-a5aa2438b0a2",
   "metadata": {},
   "source": [
    "## Project Overview"
   ]
  },
  {
   "cell_type": "markdown",
   "id": "95354d88-f4ec-4eab-a158-95e1d66d680b",
   "metadata": {},
   "source": [
    "In this project we apply Chi-Square Test For Independence (a Hypothesis Test) to assess the performance of two types of mailers that were sent out to promote a new service! "
   ]
  },
  {
   "cell_type": "markdown",
   "id": "45180d9a-1184-4a45-bfe0-836fb43dafd8",
   "metadata": {},
   "source": [
    "## Business Problem"
   ]
  },
  {
   "cell_type": "markdown",
   "id": "7fb224fc-af5a-40ff-b654-252209000012",
   "metadata": {},
   "source": [
    "Earlier in the year, our client, a grocery retailer, ran a campaign to promote their new \"Delivery Club\" - an initiative that costs a customer \\\\$100 per year for membership, but offers free grocery deliveries rather than the normal cost of \\\\$10 per delivery.\n",
    "\n",
    "For the campaign promoting the club, customers were put randomly into three groups - the first group received a low quality, low cost mailer, the second group received a high quality, high cost mailer, and the third group were a control group, receiving no mailer at all.\n",
    "\n",
    "The client knows that customers who were contacted, signed up for the Delivery Club at a far higher rate than the control group, but now want to understand if there is a significant difference in signup rate between the cheap mailer and the expensive mailer.  This will allow them to make more informed decisions in the future, with the overall aim of optimising campaign ROI!\n",
    "***"
   ]
  },
  {
   "cell_type": "markdown",
   "id": "2d378171-2e7b-4fda-a296-f0d15a84c4c6",
   "metadata": {},
   "source": [
    "## Data Understanding"
   ]
  },
  {
   "cell_type": "code",
   "execution_count": 7,
   "id": "53a41aa8-f936-4f0b-bcce-8dabf44695a5",
   "metadata": {},
   "outputs": [],
   "source": [
    "import pandas as pd\n",
    "from scipy.stats import chi2_contingency, chi2"
   ]
  },
  {
   "cell_type": "code",
   "execution_count": 8,
   "id": "58476052-3f16-4a19-b8e0-3e78c908987f",
   "metadata": {},
   "outputs": [],
   "source": [
    "campaign_data = pd.read_excel(\"data/grocery_database.xlsx\", sheet_name = \"campaign_data\")"
   ]
  },
  {
   "cell_type": "code",
   "execution_count": 9,
   "id": "fb6a7be5-3fdf-47e2-af48-5e60ff21453a",
   "metadata": {},
   "outputs": [
    {
     "name": "stdout",
     "output_type": "stream",
     "text": [
      "<class 'pandas.core.frame.DataFrame'>\n",
      "RangeIndex: 870 entries, 0 to 869\n",
      "Data columns (total 5 columns):\n",
      " #   Column         Non-Null Count  Dtype         \n",
      "---  ------         --------------  -----         \n",
      " 0   customer_id    870 non-null    int64         \n",
      " 1   campaign_name  870 non-null    object        \n",
      " 2   campaign_date  870 non-null    datetime64[ns]\n",
      " 3   mailer_type    870 non-null    object        \n",
      " 4   signup_flag    870 non-null    int64         \n",
      "dtypes: datetime64[ns](1), int64(2), object(2)\n",
      "memory usage: 34.1+ KB\n"
     ]
    }
   ],
   "source": [
    "campaign_data.info()"
   ]
  },
  {
   "cell_type": "code",
   "execution_count": 10,
   "id": "26d1a43f-4af7-4c96-825a-cea7e5509019",
   "metadata": {},
   "outputs": [
    {
     "data": {
      "text/html": [
       "<div>\n",
       "<style scoped>\n",
       "    .dataframe tbody tr th:only-of-type {\n",
       "        vertical-align: middle;\n",
       "    }\n",
       "\n",
       "    .dataframe tbody tr th {\n",
       "        vertical-align: top;\n",
       "    }\n",
       "\n",
       "    .dataframe thead th {\n",
       "        text-align: right;\n",
       "    }\n",
       "</style>\n",
       "<table border=\"1\" class=\"dataframe\">\n",
       "  <thead>\n",
       "    <tr style=\"text-align: right;\">\n",
       "      <th></th>\n",
       "      <th>customer_id</th>\n",
       "      <th>campaign_name</th>\n",
       "      <th>campaign_date</th>\n",
       "      <th>mailer_type</th>\n",
       "      <th>signup_flag</th>\n",
       "    </tr>\n",
       "  </thead>\n",
       "  <tbody>\n",
       "    <tr>\n",
       "      <th>0</th>\n",
       "      <td>74</td>\n",
       "      <td>delivery_club</td>\n",
       "      <td>2020-07-01</td>\n",
       "      <td>Mailer1</td>\n",
       "      <td>1</td>\n",
       "    </tr>\n",
       "    <tr>\n",
       "      <th>1</th>\n",
       "      <td>524</td>\n",
       "      <td>delivery_club</td>\n",
       "      <td>2020-07-01</td>\n",
       "      <td>Mailer1</td>\n",
       "      <td>1</td>\n",
       "    </tr>\n",
       "    <tr>\n",
       "      <th>2</th>\n",
       "      <td>607</td>\n",
       "      <td>delivery_club</td>\n",
       "      <td>2020-07-01</td>\n",
       "      <td>Mailer2</td>\n",
       "      <td>1</td>\n",
       "    </tr>\n",
       "    <tr>\n",
       "      <th>3</th>\n",
       "      <td>343</td>\n",
       "      <td>delivery_club</td>\n",
       "      <td>2020-07-01</td>\n",
       "      <td>Mailer1</td>\n",
       "      <td>0</td>\n",
       "    </tr>\n",
       "    <tr>\n",
       "      <th>4</th>\n",
       "      <td>322</td>\n",
       "      <td>delivery_club</td>\n",
       "      <td>2020-07-01</td>\n",
       "      <td>Mailer2</td>\n",
       "      <td>1</td>\n",
       "    </tr>\n",
       "  </tbody>\n",
       "</table>\n",
       "</div>"
      ],
      "text/plain": [
       "   customer_id  campaign_name campaign_date mailer_type  signup_flag\n",
       "0           74  delivery_club    2020-07-01     Mailer1            1\n",
       "1          524  delivery_club    2020-07-01     Mailer1            1\n",
       "2          607  delivery_club    2020-07-01     Mailer2            1\n",
       "3          343  delivery_club    2020-07-01     Mailer1            0\n",
       "4          322  delivery_club    2020-07-01     Mailer2            1"
      ]
     },
     "execution_count": 10,
     "metadata": {},
     "output_type": "execute_result"
    }
   ],
   "source": [
    "campaign_data.head()"
   ]
  },
  {
   "cell_type": "code",
   "execution_count": 11,
   "id": "854f3941-61f3-4f84-a7df-74c548f0d2c7",
   "metadata": {},
   "outputs": [
    {
     "data": {
      "text/plain": [
       "array(['Mailer1', 'Mailer2', 'Control'], dtype=object)"
      ]
     },
     "execution_count": 11,
     "metadata": {},
     "output_type": "execute_result"
    }
   ],
   "source": [
    "campaign_data['mailer_type'].unique()"
   ]
  },
  {
   "cell_type": "markdown",
   "id": "9348ecb6-e6b6-43c4-8869-74a348f88f0a",
   "metadata": {},
   "source": [
    "There are 711 mail-out in our campaign dataset with three mailer types \n",
    "- Mailer 1 being the low-quality-low-cost mailer;\n",
    "- Mailer 2 being the high-quality-high-cost mailer;\n",
    "- Control Group: receiving no mailers\n",
    "\n",
    "The `signup_flag` (either 0 or 1) tells us whether a customer sign the membership."
   ]
  },
  {
   "cell_type": "markdown",
   "id": "8b3e863d-a3e0-43e5-9f5a-a35dbb82d889",
   "metadata": {},
   "source": [
    "## Data Preparation "
   ]
  },
  {
   "cell_type": "markdown",
   "id": "ae0c8e29-12c0-4772-8b95-7d5c62340dc7",
   "metadata": {},
   "source": [
    "Since we only want to test whether a high-quality mailer type will attract more sign-up, we will just need the two categories of data - Mailer 1 and Mailer 2. We will exclude the `control Group` for this task."
   ]
  },
  {
   "cell_type": "code",
   "execution_count": 15,
   "id": "0ede606c-9837-4348-8dfe-ff958aa65d78",
   "metadata": {},
   "outputs": [],
   "source": [
    "# remove the data where the mail_type = 'control'\n",
    "campaign_data = campaign_data.loc[campaign_data['mailer_type'] != 'Control']"
   ]
  },
  {
   "cell_type": "markdown",
   "id": "7d802277-0700-4a0b-8eed-25a2d904236e",
   "metadata": {},
   "source": [
    "#### 1) State hypothese & Set acceptance criteria"
   ]
  },
  {
   "cell_type": "code",
   "execution_count": 17,
   "id": "5eea69e8-22ad-4897-9def-733f91612ffb",
   "metadata": {},
   "outputs": [],
   "source": [
    "null_hypothesis = \"There is no relationship between mailer type and signup rate. They are independent.\"\n",
    "alternate_hypothesis = \"There is a relationship between mailer type and signup rate. They are not independent.\""
   ]
  },
  {
   "cell_type": "code",
   "execution_count": 18,
   "id": "2ae71593-9f98-44e1-b3b5-b99d52f889a4",
   "metadata": {},
   "outputs": [],
   "source": [
    "acceptance_criteria = 0.05"
   ]
  },
  {
   "cell_type": "markdown",
   "id": "9c7730c2-6e94-4796-9dc3-c17f50d2b6fd",
   "metadata": {},
   "source": [
    "#### 2) Summarize the data to get observed value"
   ]
  },
  {
   "cell_type": "code",
   "execution_count": 20,
   "id": "3e44fbbd-773b-4788-8bc2-38e3e04fa959",
   "metadata": {},
   "outputs": [
    {
     "data": {
      "text/html": [
       "<div>\n",
       "<style scoped>\n",
       "    .dataframe tbody tr th:only-of-type {\n",
       "        vertical-align: middle;\n",
       "    }\n",
       "\n",
       "    .dataframe tbody tr th {\n",
       "        vertical-align: top;\n",
       "    }\n",
       "\n",
       "    .dataframe thead th {\n",
       "        text-align: right;\n",
       "    }\n",
       "</style>\n",
       "<table border=\"1\" class=\"dataframe\">\n",
       "  <thead>\n",
       "    <tr style=\"text-align: right;\">\n",
       "      <th>signup_flag</th>\n",
       "      <th>0</th>\n",
       "      <th>1</th>\n",
       "    </tr>\n",
       "    <tr>\n",
       "      <th>mailer_type</th>\n",
       "      <th></th>\n",
       "      <th></th>\n",
       "    </tr>\n",
       "  </thead>\n",
       "  <tbody>\n",
       "    <tr>\n",
       "      <th>Mailer1</th>\n",
       "      <td>252</td>\n",
       "      <td>123</td>\n",
       "    </tr>\n",
       "    <tr>\n",
       "      <th>Mailer2</th>\n",
       "      <td>209</td>\n",
       "      <td>127</td>\n",
       "    </tr>\n",
       "  </tbody>\n",
       "</table>\n",
       "</div>"
      ],
      "text/plain": [
       "signup_flag    0    1\n",
       "mailer_type          \n",
       "Mailer1      252  123\n",
       "Mailer2      209  127"
      ]
     },
     "execution_count": 20,
     "metadata": {},
     "output_type": "execute_result"
    }
   ],
   "source": [
    "# aggregate our data to get the observed frequencies\n",
    "pd.crosstab(campaign_data['mailer_type'], campaign_data['signup_flag'])"
   ]
  },
  {
   "cell_type": "code",
   "execution_count": 21,
   "id": "1a3f4215-6af8-402a-a048-9635b979bb1a",
   "metadata": {},
   "outputs": [],
   "source": [
    "observed_values = pd.crosstab(campaign_data['mailer_type'], campaign_data['signup_flag']).values"
   ]
  },
  {
   "cell_type": "code",
   "execution_count": 22,
   "id": "546a479f-892e-47ce-bd42-e064401d5d64",
   "metadata": {},
   "outputs": [
    {
     "name": "stdout",
     "output_type": "stream",
     "text": [
      "mailer1_signup_rate: 0.328 \n",
      "mailer2_signup_rate: 0.37797619047619047\n"
     ]
    }
   ],
   "source": [
    "mailer1_signup_rate = 123/(252+123)\n",
    "mailer2_signup_rate = 127/(209+127)\n",
    "print(f'mailer1_signup_rate: {mailer1_signup_rate} \\nmailer2_signup_rate: {mailer2_signup_rate}')"
   ]
  },
  {
   "cell_type": "markdown",
   "id": "238fd8a5-d46f-454e-afd4-bb2fb59be9b6",
   "metadata": {},
   "source": [
    "From our observation, the mailer 2 resulted in a slightly higher sign-up rate. However, we need to test whether the higher sigh-up rate is statistically significant or it is just by chance to be higher."
   ]
  },
  {
   "cell_type": "markdown",
   "id": "6738cd37-3552-4b1f-87ec-18f68dd5638a",
   "metadata": {},
   "source": [
    "#### 3) Run the chi square test"
   ]
  },
  {
   "cell_type": "code",
   "execution_count": 25,
   "id": "c4d7a719-0cbd-4191-a815-5ebc99696566",
   "metadata": {},
   "outputs": [
    {
     "name": "stdout",
     "output_type": "stream",
     "text": [
      "chi2_statistic: 1.9414468614812481, p_value: 0.16351152223398197\n"
     ]
    }
   ],
   "source": [
    "# calculate the chi squre statistics and the p_value\n",
    "chi2_statistic , p_value, dof, expected_values = chi2_contingency(observed_values,correction = False)\n",
    "print(f'chi2_statistic: {chi2_statistic}, p_value: {p_value}')"
   ]
  },
  {
   "cell_type": "code",
   "execution_count": 26,
   "id": "a634d78e-c0dd-4858-93da-ebb2ead09f9e",
   "metadata": {},
   "outputs": [
    {
     "name": "stdout",
     "output_type": "stream",
     "text": [
      "3.841458820694124\n"
     ]
    }
   ],
   "source": [
    "# Find the critical value for our test\n",
    "critical_value = chi2.ppf(1 - acceptance_criteria, dof)\n",
    "print(critical_value)"
   ]
  },
  {
   "cell_type": "markdown",
   "id": "3151aec9-aa02-4e52-a9bd-6f0d4f0117c8",
   "metadata": {},
   "source": [
    "## Analysing The Results"
   ]
  },
  {
   "cell_type": "markdown",
   "id": "fb3ed501-665b-46b0-a7e6-774208c1952e",
   "metadata": {},
   "source": [
    "Just from the results above we can see that our p-value of **0.16** is *greater* than our Acceptance Criteria of 0.05. Hence we will _retain_ the Null Hypothesis and conclude that there is no significant difference between the signup rates of Mailer 1 and Mailer 2.\n",
    "\n",
    "We can make the same conclusion based upon our Chi-Square statistic of **1.94** being _lower_ than our Critical Value of **3.84**.\n",
    "***"
   ]
  },
  {
   "cell_type": "markdown",
   "id": "6ac73896-c674-476c-8ca0-3a337f926cc8",
   "metadata": {},
   "source": [
    "Let's create code to automatically print and interpret the results."
   ]
  },
  {
   "cell_type": "code",
   "execution_count": 30,
   "id": "fff6c40d-d449-468c-9b29-5a2dbc9a7b05",
   "metadata": {},
   "outputs": [
    {
     "name": "stdout",
     "output_type": "stream",
     "text": [
      "As our chi-squre statistic of 1.9414468614812481 is lower than our critical value of 3.841458820694124 - we retain the null hypothesis, and conclude that: There is no relationship between mailer type and signup rate. They are independent.\n"
     ]
    }
   ],
   "source": [
    "# print the results based upon Chi Square Statistic\n",
    "if chi2_statistic >= critical_value:\n",
    "    print(f\"As our chi-squre statistic of {chi2_statistic} is higher than our critical value of {critical_value} - we reject the null hypothesis, and conclude that: {alternate_hypothesis}.\")\n",
    "else:   \n",
    "    print(f\"As our chi-squre statistic of {chi2_statistic} is lower than our critical value of {critical_value} - we retain the null hypothesis, and conclude that: {null_hypothesis}\")"
   ]
  },
  {
   "cell_type": "code",
   "execution_count": 31,
   "id": "3da11e7a-5561-4ae6-95e0-2452007ed6b2",
   "metadata": {},
   "outputs": [
    {
     "name": "stdout",
     "output_type": "stream",
     "text": [
      "As our p_value of 0.16351152223398197 is higher than our critical value of 0.05 - we retain the null hypothesis, and conclude that: There is no relationship between mailer type and signup rate. They are independent.\n"
     ]
    }
   ],
   "source": [
    "# Print the results based upon p_value\n",
    "if p_value <= acceptance_criteria:\n",
    "    print(f\"As our p_value of {p_value} is lower than our critical value of {acceptance_criteria} - we reject the null hypothesis, and conclude that: {alternate_hypothesis}.\")\n",
    "else:\n",
    "    print(f\"As our p_value of {p_value} is higher than our critical value of {acceptance_criteria} - we retain the null hypothesis, and conclude that: {null_hypothesis}\")"
   ]
  },
  {
   "cell_type": "markdown",
   "id": "71dfe224-efd9-4ca8-b8ce-37d8a11b7da9",
   "metadata": {},
   "source": [
    "## Business Impact and Application"
   ]
  },
  {
   "cell_type": "markdown",
   "id": "83b7da87-cb9d-4101-aa99-5963cdb3c80c",
   "metadata": {},
   "source": [
    "Without running this Hypothesis Test, the client may have concluded that they should always look to go with higher cost mailers - and from what we've seen in this test, that may not be a great decision.  It would result in them spending more, but not *necessarily* gaining any extra membership sign-up and revenue as a result.\n",
    "\n",
    "Our results here also do not say that there *definitely isn't a difference between the two mailers* - we are only advising that we should not make any rigid conclusions *at this point*.  \n",
    "\n",
    "Running more A/B Tests like this, gathering more data, and then re-running this test may provide us, and the client more insight!"
   ]
  },
  {
   "cell_type": "markdown",
   "id": "2d887841-a454-4311-87e9-e8bcae2c4dac",
   "metadata": {},
   "source": [
    "***"
   ]
  }
 ],
 "metadata": {
  "kernelspec": {
   "display_name": "Python 3 (ipykernel)",
   "language": "python",
   "name": "python3"
  },
  "language_info": {
   "codemirror_mode": {
    "name": "ipython",
    "version": 3
   },
   "file_extension": ".py",
   "mimetype": "text/x-python",
   "name": "python",
   "nbconvert_exporter": "python",
   "pygments_lexer": "ipython3",
   "version": "3.11.7"
  }
 },
 "nbformat": 4,
 "nbformat_minor": 5
}
